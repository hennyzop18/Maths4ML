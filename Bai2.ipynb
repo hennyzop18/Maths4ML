{
  "nbformat": 4,
  "nbformat_minor": 0,
  "metadata": {
    "colab": {
      "provenance": [],
      "authorship_tag": "ABX9TyPYJSjlGAVOHXjTPZEFbMpI",
      "include_colab_link": true
    },
    "kernelspec": {
      "name": "python3",
      "display_name": "Python 3"
    },
    "language_info": {
      "name": "python"
    }
  },
  "cells": [
    {
      "cell_type": "markdown",
      "metadata": {
        "id": "view-in-github",
        "colab_type": "text"
      },
      "source": [
        "<a href=\"https://colab.research.google.com/github/hennyzop18/Maths4ML/blob/GiuaKi/Bai2.ipynb\" target=\"_parent\"><img src=\"https://colab.research.google.com/assets/colab-badge.svg\" alt=\"Open In Colab\"/></a>"
      ]
    },
    {
      "cell_type": "code",
      "execution_count": 4,
      "metadata": {
        "colab": {
          "base_uri": "https://localhost:8080/"
        },
        "id": "PHFWcMUYD3Jt",
        "outputId": "93bd58a3-4b83-4cf0-dc93-668be567e146"
      },
      "outputs": [
        {
          "output_type": "stream",
          "name": "stdout",
          "text": [
            "Epoch 0, Loss: 0.0025\n",
            "Epoch 5, Loss: 0.0002\n",
            "Epoch 10, Loss: 0.0001\n",
            "Epoch 15, Loss: 0.0001\n",
            "Epoch 20, Loss: 0.0000\n",
            "Epoch 25, Loss: 0.0000\n",
            "\n",
            "Độ chính xác trên tập test: 0.9788\n",
            "\n",
            "Số thực tế: 7\n",
            "Số dự đoán: 7\n"
          ]
        }
      ],
      "source": [
        "import numpy as np\n",
        "\n",
        "def load_mnist():\n",
        "    \"\"\"Load dữ liệu MNIST từ file npz.\"\"\"\n",
        "    with np.load('/mnist.npz') as f:\n",
        "        x_train, y_train = f['x_train'], f['y_train']\n",
        "        x_test, y_test = f['x_test'], f['y_test']\n",
        "    return (x_train, y_train), (x_test, y_test)\n",
        "\n",
        "def sigmoid(x):\n",
        "    \"\"\"Hàm kích hoạt sigmoid.\"\"\"\n",
        "    return 1 / (1 + np.exp(-x))\n",
        "\n",
        "def sigmoid_derivative(x):\n",
        "    \"\"\"Đạo hàm của hàm sigmoid.\"\"\"\n",
        "    return x * (1 - x)\n",
        "\n",
        "def to_categorical(y, num_classes):\n",
        "    \"\"\"Chuyển nhãn số thành one-hot vector.\"\"\"\n",
        "    return np.eye(num_classes)[y]\n",
        "\n",
        "class NeuralNetwork:\n",
        "    def __init__(self, input_size, hidden_size, output_size):\n",
        "        # Khởi tạo trọng số\n",
        "        self.w1 = np.random.randn(input_size, hidden_size) * 0.01\n",
        "        self.b1 = np.zeros((1, hidden_size))\n",
        "        self.w2 = np.random.randn(hidden_size, output_size) * 0.01\n",
        "        self.b2 = np.zeros((1, output_size))\n",
        "\n",
        "    def forward(self, X):\n",
        "        \"\"\"Lan truyền xuôi.\"\"\"\n",
        "        self.z1 = np.dot(X, self.w1) + self.b1\n",
        "        self.a1 = sigmoid(self.z1)\n",
        "        self.z2 = np.dot(self.a1, self.w2) + self.b2\n",
        "        self.a2 = sigmoid(self.z2)\n",
        "        return self.a2\n",
        "\n",
        "    def backward(self, X, y, output, learning_rate):\n",
        "        \"\"\"Lan truyền ngược và cập nhật trọng số.\"\"\"\n",
        "        self.output_error = y - output\n",
        "        self.output_delta = self.output_error * sigmoid_derivative(output)\n",
        "\n",
        "        self.hidden_error = np.dot(self.output_delta, self.w2.T)\n",
        "        self.hidden_delta = self.hidden_error * sigmoid_derivative(self.a1)\n",
        "\n",
        "        # Cập nhật trọng số\n",
        "        self.w2 += learning_rate * np.dot(self.a1.T, self.output_delta)\n",
        "        self.b2 += learning_rate * np.sum(self.output_delta, axis=0, keepdims=True)\n",
        "        self.w1 += learning_rate * np.dot(X.T, self.hidden_delta)\n",
        "        self.b1 += learning_rate * np.sum(self.hidden_delta, axis=0, keepdims=True)\n",
        "\n",
        "    def train(self, X, y, epochs, learning_rate, batch_size):\n",
        "        \"\"\"Huấn luyện mạng neural.\"\"\"\n",
        "        for epoch in range(epochs):\n",
        "            total_loss = 0\n",
        "            # Xử lý theo batch\n",
        "            for i in range(0, len(X), batch_size):\n",
        "                batch_X = X[i:i + batch_size]\n",
        "                batch_y = y[i:i + batch_size]\n",
        "\n",
        "                # Forward pass\n",
        "                output = self.forward(batch_X)\n",
        "\n",
        "                # Tính loss\n",
        "                loss = np.mean(np.square(batch_y - output))\n",
        "                total_loss += loss\n",
        "\n",
        "                # Backward pass\n",
        "                self.backward(batch_X, batch_y, output, learning_rate)\n",
        "\n",
        "            if epoch % 5 == 0:\n",
        "                print(f'Epoch {epoch}, Loss: {total_loss/len(X):.4f}')\n",
        "\n",
        "    def predict(self, X):\n",
        "        \"\"\"Dự đoán lớp cho dữ liệu đầu vào.\"\"\"\n",
        "        output = self.forward(X)\n",
        "        return np.argmax(output, axis=1)\n",
        "\n",
        "# Chuẩn bị dữ liệu\n",
        "(x_train, y_train), (x_test, y_test) = load_mnist()\n",
        "\n",
        "# Tiền xử lý dữ liệu\n",
        "X_train = x_train.reshape(x_train.shape[0], -1) / 255.0  # Chuẩn hóa và làm phẳng dữ liệu\n",
        "X_test = x_test.reshape(x_test.shape[0], -1) / 255.0\n",
        "y_train_cat = to_categorical(y_train, 10)\n",
        "\n",
        "# Khởi tạo và huấn luyện mạng\n",
        "input_size = 784  # 28x28 pixels\n",
        "hidden_size = 128\n",
        "output_size = 10  # 10 chữ số\n",
        "\n",
        "nn = NeuralNetwork(input_size, hidden_size, output_size)\n",
        "nn.train(X_train, y_train_cat, epochs=30, learning_rate=0.1, batch_size=32)\n",
        "\n",
        "# Đánh giá mô hình\n",
        "predictions = nn.predict(X_test)\n",
        "accuracy = np.mean(predictions == y_test)\n",
        "print(f'\\nĐộ chính xác trên tập test: {accuracy:.4f}')\n",
        "\n",
        "# Thử nghiệm dự đoán một số\n",
        "test_idx = 0\n",
        "test_image = X_test[test_idx:test_idx+1]\n",
        "pred = nn.predict(test_image)[0]\n",
        "print(f'\\nSố thực tế: {y_test[test_idx]}')\n",
        "print(f'Số dự đoán: {pred}')"
      ]
    }
  ]
}